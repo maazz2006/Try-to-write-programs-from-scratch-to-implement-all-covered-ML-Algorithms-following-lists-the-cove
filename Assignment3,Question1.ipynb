{
  "nbformat": 4,
  "nbformat_minor": 0,
  "metadata": {
    "colab": {
      "name": "Assignment3,Question1.ipynb",
      "provenance": [],
      "collapsed_sections": []
    },
    "kernelspec": {
      "name": "python3",
      "display_name": "Python 3"
    },
    "language_info": {
      "name": "python"
    }
  },
  "cells": [
    {
      "cell_type": "markdown",
      "source": [
        "QUESTION 1\n"
      ],
      "metadata": {
        "id": "ZUm87GbrcTHo"
      }
    },
    {
      "cell_type": "code",
      "execution_count": null,
      "metadata": {
        "id": "quSGsxt2vmbn",
        "colab": {
          "base_uri": "https://localhost:8080/"
        },
        "outputId": "b3b93778-5cda-4111-e484-4ade5b38b62e"
      },
      "outputs": [
        {
          "output_type": "stream",
          "name": "stdout",
          "text": [
            "[0, 0, 0, 0]\n"
          ]
        }
      ],
      "source": [
        "#knn\n",
        "f1=[1,0,0,1]\n",
        "f2=[0.5,1,0.667,0]\n",
        "Class=[0,0,1,1]\n",
        "\n",
        "p1=[1,1,0,0]\n",
        "p2=[0.167,0.334,0.167,0.334]\n",
        "prediction=[0,0,0,0]\n",
        "\n",
        "#print(abs(-5))\n",
        "for i in range(4):\n",
        "  temp=[0,0,0,0]\n",
        "  for j in range(4):\n",
        "    distance = abs(p1[i]-f1[j]) + abs(p2[i]-f2[j])  \n",
        "    temp[j] = distance + Class[j]\n",
        "    \n",
        "  prediction[i]=Class[temp.index(min(temp))]\n",
        "  #print(temp)  \n",
        "print(prediction)  "
      ]
    },
    {
      "cell_type": "code",
      "source": [
        "#BayesTheorem\n",
        "        #sunny[yes,no] #overcast[yes,no] #rainy[yes,no]\n",
        "outlook = {'sunny':[2/9,3/5],'overcast':[4/9,0/5],'rainy':[3/9,2/5]}\n",
        "temperature = {'hot':[2/9,2/5],'mild':[4/9,2/5],'cool':[3/9,1/5]}\n",
        "humidity = {'high':[3/9,4/5],'normal':[6/9,1/5]}\n",
        "wind = {'false':[6/9,2/5],'true':[3/9,3/5]}\n",
        "play={'yes':[9/14],'no':[5/14]}\n",
        "\n",
        "probablity={'sunny':'yes','hot':'yes','normal':'yes','false':'yes','play':'yes'}\n",
        "i=0\n",
        "a=[]\n",
        "values=[]\n",
        "for key,value in probablity.items():\n",
        "  if key == 'sunny':\n",
        "   if value == 'yes':\n",
        "     a.append(outlook.get('sunny')) \n",
        "     values.append(a[i][i])\n",
        "  if key == 'sunny':\n",
        "   if value == 'no':\n",
        "     a.append(outlook.get('sunny')) \n",
        "     values=a[i][i+1]\n",
        "  if key == 'overcast':\n",
        "   if value == 'yes':\n",
        "     a.append(outlook.get('overcast')) \n",
        "     values.append(a[i][i])\n",
        "  if key == 'overcast':\n",
        "   if value == 'no':\n",
        "     a.append(outlook.get('overcast')) \n",
        "     values=a[i][i+1]\n",
        "  if key == 'rainy':\n",
        "   if value == 'yes':\n",
        "     a.append(outlook.get('rainy')) \n",
        "     values.append(a[i][i])\n",
        "  if key == 'rainy':\n",
        "   if value == 'no':\n",
        "     a.append(outlook.get('rainy')) \n",
        "     values=a[i][i+1]\n",
        "  if key == 'hot':\n",
        "   if value == 'yes':\n",
        "     a.append(temperature.get('hot')) \n",
        "     values.append(a[i+1][i])\n",
        "  if key == 'hot':\n",
        "   if value == 'no':\n",
        "     a.append(temperature.get('hot')) \n",
        "     values=a[i+1][i+1]\n",
        "  \n",
        "  if key == 'mild':\n",
        "   if value == 'yes':\n",
        "     a.append(temperature.get('mild')) \n",
        "     values.append(a[i+1][i])\n",
        "  if key == 'mild':\n",
        "   if value == 'no':\n",
        "     a.append(temperature.get('mild')) \n",
        "     values=a[i+1][i+1]\n",
        "  \n",
        "  if key == 'cool':\n",
        "   if value == 'yes':\n",
        "     a.append(temperature.get('cool')) \n",
        "     values.append(a[i+1][i])\n",
        "  if key == 'cool':\n",
        "   if value == 'no':\n",
        "     a.append(temperature.get('cool')) \n",
        "     values=a[i+1][i+1]\n",
        "  \n",
        "  if key == 'high':\n",
        "   if value == 'yes':\n",
        "     a.append(humidity.get('high')) \n",
        "     values.append(a[i+2][i])\n",
        "  if key == 'high':\n",
        "   if value == 'no':\n",
        "     a.append(humidity.get('high')) \n",
        "     values=a[i+2][i+1]\n",
        "  \n",
        "  if key == 'normal':\n",
        "   if value == 'yes':\n",
        "     a.append(humidity.get('normal')) \n",
        "     values.append(a[i+2][i])\n",
        "  if key == 'normal':\n",
        "   if value == 'no':\n",
        "     a.append(humidity.get('normal')) \n",
        "     values=a[i+2][i+1]\n",
        "  if key == 'false':\n",
        "   if value == 'yes':\n",
        "     a.append(wind.get('false')) \n",
        "     values.append(a[i+3][i])\n",
        "  if key == 'false':\n",
        "   if value == 'no':\n",
        "     a.append(wind.get('false')) \n",
        "     values=a[i+3][i+1]\n",
        "  if key == 'true':\n",
        "   if value == 'yes':\n",
        "     a.append(wind.get('true')) \n",
        "     values.append(a[i+3][i])\n",
        "  if key == 'true':\n",
        "   if value == 'no':\n",
        "     a.append(wind.get('true')) \n",
        "     values=a[i+3][i+1]   \n",
        "  if key == 'play':\n",
        "   if value == 'yes':\n",
        "     a.append(play.get('yes')) \n",
        "     values.append(a[i+4][i])\n",
        "  if key == 'play':\n",
        "   if value == 'no':\n",
        "     a.append(play.get('no')) \n",
        "     values=a[i+4][i+1]\n",
        "  \n",
        "\n",
        "\n",
        "print(values)\n",
        "finalanswer=1\n",
        "for i in values:\n",
        "  finalanswer *=i\n",
        "\n",
        "print(finalanswer)  "
      ],
      "metadata": {
        "id": "bWVlg_M-arIs",
        "colab": {
          "base_uri": "https://localhost:8080/"
        },
        "outputId": "d90eb3d1-dec6-4910-de44-b190f35e0855"
      },
      "execution_count": null,
      "outputs": [
        {
          "output_type": "stream",
          "name": "stdout",
          "text": [
            "[0.2222222222222222, 0.2222222222222222, 0.6666666666666666, 0.6666666666666666, 0.6428571428571429]\n",
            "0.014109347442680773\n"
          ]
        }
      ]
    },
    {
      "cell_type": "code",
      "source": [
        "#kmean\n",
        "import random\n",
        "\n",
        "def Euclidean(p1,p2):\n",
        "   distance = abs(p1[0]-p2[0]) + abs(p1[1]-p2[1]) \n",
        "   return distance\n",
        "\n",
        "\n",
        "def KMean(input):\n",
        "  distance1=[]\n",
        "  distance2=[]\n",
        "  distance3=[]\n",
        "  \n",
        "  c1=input[0]\n",
        "  c2=input[1]\n",
        "  c3=input[2]\n",
        "  for i in points:\n",
        "    distance1.append(Euclidean(c1,i))\n",
        "    distance2.append(Euclidean(c2,i))\n",
        "    distance3.append(Euclidean(c3,i))\n",
        "  \n",
        "  #print(distance1)\n",
        "  #print(distance2)\n",
        "  \n",
        "  #print(distance3)\n",
        "  cent1=[]\n",
        "  cent2=[]\n",
        "  cent3=[]\n",
        "  temp=[]  \n",
        "  for i in range(0,8):\n",
        "    temp=[distance1[i],distance2[i],distance3[i]]\n",
        "    temp=temp.index(min(temp))\n",
        "    \n",
        "    if temp==0:\n",
        "      cent1.append(points[i])\n",
        "    if temp==1:\n",
        "      cent2.append(points[i])\n",
        "    if temp==2:\n",
        "      cent3.append(points[i])\n",
        "\n",
        "  #print(cent1)\n",
        "  #print(cent2)\n",
        "  #print(cent3)\n",
        "\n",
        "  kmean1=[]\n",
        "  kmean2=[]\n",
        "  kmean3=[]\n",
        "  x=0\n",
        "  y=0\n",
        "  for i in range(0, len(cent1)):\n",
        "    \n",
        "    x = x + cent1[i][0]\n",
        "    y = y + cent1[i][1]\n",
        "    kmean1=([x,y])\n",
        "  x=0\n",
        "  y=0\n",
        "  for i in range(0, len(cent2)):\n",
        "    x = x + cent2[i][0]\n",
        "    y = y + cent2[i][1]\n",
        "    kmean2=([x,y])\n",
        "  x=0\n",
        "  y=0\n",
        "  for i in range(0, len(cent3)):\n",
        "    x = x + cent3[i][0]\n",
        "    y = y + cent3[i][1]\n",
        "    kmean3=([x,y])\n",
        "  for i in range(0,1):\n",
        "    kmean1=[kmean1[i]/len(cent1),kmean1[i+1]/len(cent1)]\n",
        "    kmean2=[kmean2[i]/len(cent2),kmean2[i+1]/len(cent2)]\n",
        "    kmean3=[kmean3[i]/len(cent3),kmean3[i+1]/len(cent3)]\n",
        "  \n",
        "  means=[]\n",
        "  means.append(kmean1)\n",
        "  means.append(kmean2)\n",
        "  means.append(kmean3)\n",
        "  print(means)\n",
        "  return means\n",
        "\n",
        "\n",
        "points=[[2,10],[2,5],[8,4],[5,8],[7,5],[6,4],[1,2],[4,9]]\n",
        "p1=points[0]\n",
        "p2=points[3]\n",
        "p3=points[6]\n",
        "input=[]\n",
        "input.append(p1)\n",
        "input.append(p2)\n",
        "input.append(p3)\n",
        "input2=[]\n",
        "#1st Iteration\n",
        "#print(KMean(input))\n",
        "print('After first iteration the Means are :')\n",
        "input2=KMean(input)\n",
        "print('After second iteration the Means are :')\n",
        "input3=KMean(input2)\n",
        "print('After third iteration the Means are :')\n",
        "input4=KMean(input3)\n",
        "print('After fourth iteration the Means are :')\n",
        "input5=KMean(input4)\n",
        "print('After fifth iteration the Means are :')\n",
        "input6=KMean(input5)"
      ],
      "metadata": {
        "id": "b7RIH_vdugMH",
        "colab": {
          "base_uri": "https://localhost:8080/"
        },
        "outputId": "de696c36-d458-42cd-a91e-a3e4a226c364"
      },
      "execution_count": null,
      "outputs": [
        {
          "output_type": "stream",
          "name": "stdout",
          "text": [
            "After first iteration the Means are :\n",
            "[[2.0, 10.0], [6.0, 6.0], [1.5, 3.5]]\n",
            "After second iteration the Means are :\n",
            "[[3.0, 9.5], [6.5, 5.25], [1.5, 3.5]]\n",
            "After third iteration the Means are :\n",
            "[[3.6666666666666665, 9.0], [7.0, 4.333333333333333], [1.5, 3.5]]\n",
            "After fourth iteration the Means are :\n",
            "[[3.6666666666666665, 9.0], [7.0, 4.333333333333333], [1.5, 3.5]]\n",
            "After fifth iteration the Means are :\n",
            "[[3.6666666666666665, 9.0], [7.0, 4.333333333333333], [1.5, 3.5]]\n"
          ]
        }
      ]
    },
    {
      "cell_type": "code",
      "source": [
        "#confusionMatrix\n",
        "import random\n",
        "\n",
        "fp = 17\n",
        "fn = 4\n",
        "\n",
        "tp = 0\n",
        "tn = 8\n",
        "\n",
        "our_confusion_matrix = [\n",
        "    [tn, fp],\n",
        "    [fn, tp]\n",
        "]\n",
        "\n",
        "\n",
        "accuracy = (tp + tn)/100\n",
        "print(accuracy)"
      ],
      "metadata": {
        "id": "vah_of2cQVRz",
        "colab": {
          "base_uri": "https://localhost:8080/"
        },
        "outputId": "925b162a-07a5-441f-964e-d82c27cfffc9"
      },
      "execution_count": null,
      "outputs": [
        {
          "output_type": "stream",
          "name": "stdout",
          "text": [
            "0.08\n"
          ]
        }
      ]
    }
  ]
}